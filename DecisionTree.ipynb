{
 "cells": [
  {
   "cell_type": "code",
   "execution_count": 1,
   "id": "154edb9f",
   "metadata": {},
   "outputs": [],
   "source": [
    "import pandas as pd\n",
    "import numpy as np"
   ]
  },
  {
   "cell_type": "code",
   "execution_count": 2,
   "id": "e9912f18",
   "metadata": {},
   "outputs": [],
   "source": [
    "df = pd.read_csv('dados.csv')\n",
    "\n",
    "def returnGender(g):\n",
    "    if(g == 1):\n",
    "        return \"Masculino\"\n",
    "    else:\n",
    "        return \"Feminino\"\n",
    "    \n",
    "def returnUF(u):\n",
    "    return {\n",
    "        11: \"Rondônia\",\n",
    "        12: \"Acre\",\n",
    "        13: \"Amazonas\",\n",
    "        14: \"Roraima\",\n",
    "        15: \"Pará\",\n",
    "        16: \"Amapá\",\n",
    "        17: \"Tocantis\",\n",
    "        21: \"Maranhão\",\n",
    "        22: \"Piauí\",\n",
    "        23: \"Ceará\",\n",
    "        24: \"Rio Grande do Norte\",\n",
    "        25: \"Paraíba\",\n",
    "        26: \"Pernambuco\",\n",
    "        27: \"Alagoas\",\n",
    "        28: \"Sergipe\",\n",
    "        29: \"Bahia\",\n",
    "        31: \"Minas Gerais\",\n",
    "        32: \"Espírito Santo\",\n",
    "        33: \"Rio de Janeiro\",\n",
    "        35: \"São Paulo\",\n",
    "        41: \"Paraná\",\n",
    "        42: \"Santa Catarina\",\n",
    "        43: \"Rio Grande do Sul\",\n",
    "        50: \"Mato Grosso do Sul\",\n",
    "        51: \"Mato Grosso\",\n",
    "        52: \"Goias\",\n",
    "        53: \"Distrito Federal\"\n",
    "    }[u]\n",
    "\n",
    "def returnEthnicGroup(e):\n",
    "    return {\n",
    "        0: \"Indígena\",\n",
    "        2: \"Branco\",\n",
    "        4: \"Negro\",\n",
    "        6: \"Asiático\",\n",
    "        8: \"Pardo\",\n",
    "        9: \"Sem Declaração\"\n",
    "    }[e]\n",
    "\n",
    "def returnGruposDeIdade(i):\n",
    "    if(i <= 18):\n",
    "        return \"Menor de 18 anos\"\n",
    "    elif(i <= 25):\n",
    "        return \"Entre 18 e 25 anos\"\n",
    "    elif(i <= 40):\n",
    "        return \"Entre 25 e 40 anos\"\n",
    "    elif (i <= 60):\n",
    "        return \"Entre 40 e 60 anos\"\n",
    "    else:\n",
    "        return \"Maior de 60 anos\"\n",
    "\n",
    "def returnAnosDeEstudo(e):\n",
    "    if(e == 17):\n",
    "        return \"Não Informado\"\n",
    "    return e - 1\n",
    "\n",
    "def returnClasseSocial(r):\n",
    "    salario_minimo = 1100\n",
    "    if(r <= salario_minimo):\n",
    "        return \"E\"\n",
    "    elif(r <= salario_minimo*3):\n",
    "        return \"D\"\n",
    "    elif(r <= salario_minimo*5):\n",
    "        return \"C\"\n",
    "    elif(r <= salario_minimo*15):\n",
    "        return \"B\"\n",
    "    else:\n",
    "        return \"A\"\n",
    "\n",
    "\n",
    "df['Sexo'] = df['Sexo'].apply(lambda x: returnGender(x))\n",
    "df['UF'] = df['UF'].apply(lambda x: returnUF(x))\n",
    "df['Cor'] = df['Cor'].apply(lambda x: returnEthnicGroup(x))\n",
    "df['Idade'] = df['Idade'].apply(lambda x: returnGruposDeIdade(x))\n",
    "df['Anos de Estudo'] = df['Anos de Estudo'].apply(lambda x: returnAnosDeEstudo(x))\n",
    "df['Renda'] = df['Renda'].apply(lambda x: returnClasseSocial(x))"
   ]
  },
  {
   "cell_type": "code",
   "execution_count": 6,
   "id": "2810b4ee",
   "metadata": {},
   "outputs": [],
   "source": [
    "def calcularEntropia(df, coluna):\n",
    "    values = df[coluna].unique()\n",
    "    entropia = 0\n",
    "    for i in values:\n",
    "        pi = len(df[df[coluna].eq(i)])/len(df)\n",
    "        entropia += pi*np.log2(pi)\n",
    "        \n",
    "    return -entropia\n",
    "    \n",
    "def calcularGanho(df, resultado, coluna):\n",
    "    values = df[coluna].unique()\n",
    "    ganho = 0\n",
    "    for i in values:\n",
    "        pi = len(df[df[coluna].eq(i)])/len(df)\n",
    "        ganho = pi * calcularEntropia(df[df[coluna].eq(i)], resultado)\n",
    "    ganho = calcularEntropia(df, resultado) - ganho\n",
    "    return ganho"
   ]
  },
  {
   "cell_type": "code",
   "execution_count": 7,
   "id": "1560d55d",
   "metadata": {},
   "outputs": [],
   "source": [
    "class No:\n",
    "    def __init__(self, atributo, galhos):\n",
    "        self.atributo = atributo\n",
    "        self.galhos = galhos\n",
    "        \n",
    "def construirArvoreDeDecisao(df, colunas, resultado, resultadoAnterior=0, dfOriginal=df):\n",
    "    if(len(df[resultado]) == 0):\n",
    "        return No(resultadoAnterior, '.')\n",
    "    elif(len(df[resultado].unique()) == 1):\n",
    "        return No(df[resultado].iloc[0], '.')\n",
    "    elif(len(colunas) == 0):\n",
    "        return No(df[resultado].value_counts()[:1].index[0], '.')\n",
    "    \n",
    "    maiorGanhoDeColunas = -np.inf\n",
    "    for i in colunas:\n",
    "        colunaEscolhida = i if maiorGanhoDeColunas < calcularGanho(df, resultado, i) else maiorGanhoDeColunas\n",
    "    \n",
    "    galhos = {}\n",
    "    for i in dfOriginal[colunaEscolhida].unique():\n",
    "        galhos[i] = construirArvoreDeDecisao(df[df[colunaEscolhida].eq(i)], list(set(colunas) - set([colunaEscolhida])), resultado, df[resultado].value_counts().index[0], dfOriginal)\n",
    "        \n",
    "    return No(colunaEscolhida, galhos)\n",
    "\n",
    "\n",
    "arvore = construirArvoreDeDecisao(df, ['UF', 'Sexo', 'Idade', 'Cor', 'Anos de Estudo'], 'Renda')"
   ]
  },
  {
   "cell_type": "code",
   "execution_count": 8,
   "id": "7cf1c480",
   "metadata": {},
   "outputs": [
    {
     "data": {
      "text/plain": [
       "'E'"
      ]
     },
     "execution_count": 8,
     "metadata": {},
     "output_type": "execute_result"
    }
   ],
   "source": [
    "def buscarNaArvore(arvore, individuo):\n",
    "    if(arvore.galhos == '.'):\n",
    "        return arvore.atributo\n",
    "    else:\n",
    "        return buscarNaArvore(arvore.galhos[individuo[arvore.atributo]], individuo)\n",
    "\n",
    "buscarNaArvore(arvore, {\n",
    "    'UF': 'Rio de Janeiro',\n",
    "    'Sexo': 'Masculino',\n",
    "    'Idade': 'Entre 40 e 60 anos',\n",
    "    'Cor': 'Branco',\n",
    "    'Anos de Estudo': 14\n",
    "})"
   ]
  },
  {
   "cell_type": "code",
   "execution_count": 15,
   "id": "002084e1",
   "metadata": {},
   "outputs": [
    {
     "data": {
      "text/plain": [
       "E    5\n",
       "D    3\n",
       "B    2\n",
       "C    2\n",
       "Name: Renda, dtype: int64"
      ]
     },
     "execution_count": 15,
     "metadata": {},
     "output_type": "execute_result"
    }
   ],
   "source": []
  },
  {
   "cell_type": "code",
   "execution_count": null,
   "id": "2877821c",
   "metadata": {},
   "outputs": [],
   "source": []
  }
 ],
 "metadata": {
  "kernelspec": {
   "display_name": "Python 3",
   "language": "python",
   "name": "python3"
  },
  "language_info": {
   "codemirror_mode": {
    "name": "ipython",
    "version": 3
   },
   "file_extension": ".py",
   "mimetype": "text/x-python",
   "name": "python",
   "nbconvert_exporter": "python",
   "pygments_lexer": "ipython3",
   "version": "3.8.8"
  }
 },
 "nbformat": 4,
 "nbformat_minor": 5
}
